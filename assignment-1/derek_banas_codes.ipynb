{
  "nbformat": 4,
  "nbformat_minor": 0,
  "metadata": {
    "colab": {
      "provenance": []
    },
    "kernelspec": {
      "name": "python3",
      "display_name": "Python 3"
    },
    "language_info": {
      "name": "python"
    }
  },
  "cells": [
    {
      "cell_type": "code",
      "source": [
        "print(\"Hello World\")"
      ],
      "metadata": {
        "colab": {
          "base_uri": "https://localhost:8080/"
        },
        "id": "uPtMugIy0gu0",
        "outputId": "f48cabb5-4082-4b51-dc97-5a3543f01b62"
      },
      "execution_count": null,
      "outputs": [
        {
          "output_type": "stream",
          "name": "stdout",
          "text": [
            "Hello World\n"
          ]
        }
      ]
    },
    {
      "cell_type": "code",
      "source": [
        "name = \"Derek\"\n",
        "print(name)"
      ],
      "metadata": {
        "colab": {
          "base_uri": "https://localhost:8080/"
        },
        "id": "SaSlw3rQ0jXZ",
        "outputId": "35eb396e-24d2-4746-d9a1-447c3ac97b78"
      },
      "execution_count": null,
      "outputs": [
        {
          "output_type": "stream",
          "name": "stdout",
          "text": [
            "Derek\n"
          ]
        }
      ]
    },
    {
      "cell_type": "code",
      "source": [
        "print(\"5 + 2 = \", 5+2)\n",
        "print(\"5 - 2 = \", 5-2)\n",
        "print(\"5 * 2 = \", 5*2)\n",
        "print(\"5 / 2 = \", 5/2)\n",
        "print(\"5 % 2 = \", 5%2)\n",
        "print(\"5 ** 2 = \", 5**2)\n",
        "print(\"5 // 2 = \", 5//2)"
      ],
      "metadata": {
        "colab": {
          "base_uri": "https://localhost:8080/"
        },
        "id": "IgNZKWnE0neY",
        "outputId": "2142f206-3d99-419d-f66d-6320795ca54b"
      },
      "execution_count": null,
      "outputs": [
        {
          "output_type": "stream",
          "name": "stdout",
          "text": [
            "5 + 2 =  7\n",
            "5 - 2 =  3\n",
            "5 * 2 =  10\n",
            "5 / 2 =  2.5\n",
            "5 % 2 =  1\n",
            "5 ** 2 =  25\n",
            "5 // 2 =  2\n"
          ]
        }
      ]
    },
    {
      "cell_type": "code",
      "source": [
        "quote = \"\\\"Always remember you are unique\\\"\"\n",
        "\n",
        "multi_line_quote = '''just\n",
        "like everyone else '''\n",
        "\n",
        "print(\"%s\\n %s\\n %s\" % ('I like the quote', quote, multi_line_quote))\n",
        "print(\"I don't like \", end=\"\")\n"
      ],
      "metadata": {
        "colab": {
          "base_uri": "https://localhost:8080/"
        },
        "id": "PNJl6Z2m0-J9",
        "outputId": "ea7cc451-df09-4213-c6e2-5447ff2a87b7"
      },
      "execution_count": null,
      "outputs": [
        {
          "output_type": "stream",
          "name": "stdout",
          "text": [
            "I like the quote\n",
            " \"Always remember you are unique\"\n",
            " just \n",
            "like everyone else \n",
            "I don't like "
          ]
        }
      ]
    },
    {
      "cell_type": "code",
      "source": [
        "grocery_list = ['Juice', 'Tomatoes', 'Potatoes', 'Bananas']\n",
        "print(\"First Item\", grocery_list[0])\n",
        "\n",
        "grocery_list[0] = \"Green Juice\"\n",
        "print(\"First Item\", grocery_list[0])\n",
        "\n",
        "print(grocery_list[1:3])"
      ],
      "metadata": {
        "colab": {
          "base_uri": "https://localhost:8080/"
        },
        "id": "u5T2HJ5p1yhJ",
        "outputId": "ee2633d6-4307-42ac-dc07-9282e7a25a35"
      },
      "execution_count": null,
      "outputs": [
        {
          "output_type": "stream",
          "name": "stdout",
          "text": [
            "First Item Juice\n",
            "First Item Green Juice\n",
            "['Tomatoes', 'Potatoes']\n"
          ]
        }
      ]
    },
    {
      "cell_type": "code",
      "source": [
        "other_events = ['Wash Car', 'Pick Up Kids', 'Cash Check']\n",
        "\n",
        "to_do_list = [other_events, grocery_list]\n",
        "print(\"To do list: \", to_do_list)\n",
        "\n",
        "grocery_list.insert(1, \"Pickle\")\n",
        "\n",
        "grocery_list.remove(\"Pickle\")\n",
        "\n",
        "grocery_list.sort()\n",
        "\n",
        "grocery_list.reverse()\n",
        "\n",
        "del grocery_list[3]\n",
        "\n"
      ],
      "metadata": {
        "colab": {
          "base_uri": "https://localhost:8080/"
        },
        "id": "fVnF-AuN2KNE",
        "outputId": "3ebb5aca-fdba-4b6e-ac16-2752563a1781"
      },
      "execution_count": null,
      "outputs": [
        {
          "output_type": "stream",
          "name": "stdout",
          "text": [
            "To do list:  [['Wash Car', 'Pick Up Kids', 'Cash Check'], ['Green Juice', 'Tomatoes', 'Potatoes', 'Bananas']]\n"
          ]
        }
      ]
    },
    {
      "cell_type": "code",
      "source": [
        "pi_tuple = (3,1,4,1,5,9)\n",
        "\n",
        "new_tuple = list(pi_tuple)\n",
        "new_list = tuple(new_tuple)\n",
        "\n",
        "print(len(pi_tuple))\n",
        "print(min(pi_tuple))\n",
        "print(max(pi_tuple))"
      ],
      "metadata": {
        "colab": {
          "base_uri": "https://localhost:8080/"
        },
        "id": "0jcjzk8H27oe",
        "outputId": "5218f9f2-2604-4f04-fcfb-28ea30ac9302"
      },
      "execution_count": null,
      "outputs": [
        {
          "output_type": "stream",
          "name": "stdout",
          "text": [
            "6\n",
            "1\n",
            "9\n"
          ]
        }
      ]
    },
    {
      "cell_type": "code",
      "source": [
        "super_villains = {'Fiddler' : 'Isaac Bowin',\n",
        "                  'Captain Cold' : 'Lenoard Snart',\n",
        "                  'Weather Wizard' : 'Mark Mardon',\n",
        "                  'Mirror Master' : 'Sam Scudder',\n",
        "                  'Pied Piper' : 'Thomas Peterson'}\n",
        "\n",
        "print(super_villains['Captain Cold'])\n",
        "\n",
        "del super_villains['Fiddler']\n",
        "\n",
        "super_villains['Pied Piper'] = 'Hartley Rathaway'\n",
        "\n",
        "print(len(super_villains))"
      ],
      "metadata": {
        "colab": {
          "base_uri": "https://localhost:8080/"
        },
        "id": "0b5RBdfI3cvy",
        "outputId": "b4b973f6-65cf-4a2f-a7a2-75b95451d860"
      },
      "execution_count": null,
      "outputs": [
        {
          "output_type": "stream",
          "name": "stdout",
          "text": [
            "Lenoard Snart\n",
            "4\n"
          ]
        }
      ]
    },
    {
      "cell_type": "code",
      "source": [
        "print(super_villains[\"Pied Piper\"])\n",
        "print(super_villains.keys())\n",
        "print(super_villains.values())"
      ],
      "metadata": {
        "colab": {
          "base_uri": "https://localhost:8080/"
        },
        "id": "RFUrquNn5DMn",
        "outputId": "4acd957d-f880-4d6a-b168-38d188cf1283"
      },
      "execution_count": null,
      "outputs": [
        {
          "output_type": "stream",
          "name": "stdout",
          "text": [
            "Hartley Rathaway\n",
            "dict_keys(['Captain Cold', 'Weather Wizard', 'Mirror Master', 'Pied Piper'])\n",
            "dict_values(['Lenoard Snart', 'Mark Mardon', 'Sam Scudder', 'Hartley Rathaway'])\n"
          ]
        }
      ]
    },
    {
      "cell_type": "code",
      "source": [
        "age = 21\n",
        "\n",
        "if age > 16:\n",
        "  print('You are old enough to drive')\n",
        "else:\n",
        "  print('You are not old enough to drive')\n",
        "\n",
        "if age >= 21:\n",
        "  print('You are old enough to drive a tractor trailer')\n",
        "elif age >= 16:\n",
        "   print('You are old enough to drive')\n",
        "else:\n",
        "  print('You are not old enough to drive')\n"
      ],
      "metadata": {
        "colab": {
          "base_uri": "https://localhost:8080/"
        },
        "id": "CNP-rJwx5e2L",
        "outputId": "5fd4c9e0-63df-4a1e-9b1a-fe45e57808e6"
      },
      "execution_count": null,
      "outputs": [
        {
          "output_type": "stream",
          "name": "stdout",
          "text": [
            "You are old enough to drive\n",
            "You are old enough to drive a tractor trailer\n"
          ]
        }
      ]
    },
    {
      "cell_type": "code",
      "source": [
        "for x in range(0, 10):\n",
        "  print(x, end=\" \")\n",
        "\n",
        "print('\\n')"
      ],
      "metadata": {
        "colab": {
          "base_uri": "https://localhost:8080/"
        },
        "id": "LmToKXzD5zft",
        "outputId": "66bea4c5-8264-422a-e92b-26fdf9e716e4"
      },
      "execution_count": null,
      "outputs": [
        {
          "output_type": "stream",
          "name": "stdout",
          "text": [
            "0 1 2 3 4 5 6 7 8 9 \n",
            "\n"
          ]
        }
      ]
    },
    {
      "cell_type": "code",
      "source": [
        "grocery_list = ['Juice', 'Tomatoes', 'Potatoes', 'Bananas']\n",
        "\n",
        "for y in grocery_list:\n",
        "  if y == grocery_list[-1]:\n",
        "    print(y)\n",
        "  else:\n",
        "    print(y, end=\", \")\n",
        "\n",
        "for x in [2,4,6,8,10]:\n",
        "  print(x, end = \" \")\n",
        "\n",
        "num_list = [[1,2,3,],[10,20,30],[100,2000,330]]\n",
        "\n",
        "for x in range(0,3):\n",
        "  for y in range(0,3):\n",
        "    print(num_list[x][y], end=' ')\n",
        "  print()"
      ],
      "metadata": {
        "colab": {
          "base_uri": "https://localhost:8080/"
        },
        "id": "O5zou8GJ6Ahr",
        "outputId": "19ac95e3-c510-4799-b4fe-747df980d7bd"
      },
      "execution_count": null,
      "outputs": [
        {
          "output_type": "stream",
          "name": "stdout",
          "text": [
            "Juice, Tomatoes, Potatoes, Bananas\n",
            "2 4 6 8 10 1 2 3 \n",
            "10 20 30 \n",
            "100 2000 330 \n"
          ]
        }
      ]
    },
    {
      "cell_type": "code",
      "source": [
        "import random\n",
        "random_num = random.randrange(0,100)\n",
        "\n",
        "while(random_num != 15):\n",
        "  print(random_num, end=' ')\n",
        "  random_num = random.randrange(0,100);"
      ],
      "metadata": {
        "colab": {
          "base_uri": "https://localhost:8080/"
        },
        "id": "0S4Z-c5F6rqi",
        "outputId": "a0e2fce2-0d33-48e9-98d2-3bda9aa0f861"
      },
      "execution_count": null,
      "outputs": [
        {
          "output_type": "stream",
          "name": "stdout",
          "text": [
            "18 94 53 52 38 96 31 4 34 65 53 72 10 63 4 83 73 85 63 64 20 94 83 8 84 67 77 29 81 75 0 81 60 34 93 7 63 26 45 75 33 34 4 94 93 60 38 57 67 79 56 91 30 42 86 39 19 34 66 2 "
          ]
        }
      ]
    },
    {
      "cell_type": "code",
      "source": [
        "i = 0\n",
        "\n",
        "while (i <= 20):\n",
        "  if (i%2 == 0):\n",
        "    print(i)\n",
        "  elif(i == 9):\n",
        "    break\n",
        "  else:\n",
        "      i+=1\n",
        "      continue\n",
        "  i+=1"
      ],
      "metadata": {
        "colab": {
          "base_uri": "https://localhost:8080/"
        },
        "id": "8o4nBDbU64R2",
        "outputId": "4411cbb1-cef3-49ca-979c-9c827b0d9462"
      },
      "execution_count": null,
      "outputs": [
        {
          "output_type": "stream",
          "name": "stdout",
          "text": [
            "0\n",
            "2\n",
            "4\n",
            "6\n",
            "8\n"
          ]
        }
      ]
    },
    {
      "cell_type": "code",
      "source": [
        "def add_number(first_num, last_num):\n",
        "  sum_num = first_num + last_num\n",
        "  return sum_num\n",
        "\n",
        "print(add_number(10, 20))"
      ],
      "metadata": {
        "colab": {
          "base_uri": "https://localhost:8080/"
        },
        "id": "U80Jl8Fh7Hch",
        "outputId": "d96d3e59-17af-4e71-9fd4-f5c9427c09bb"
      },
      "execution_count": null,
      "outputs": [
        {
          "output_type": "stream",
          "name": "stdout",
          "text": [
            "30\n"
          ]
        }
      ]
    },
    {
      "cell_type": "code",
      "source": [
        "print(\"What is your name\")\n",
        "\n",
        "name = input()\n",
        "\n",
        "print(name)"
      ],
      "metadata": {
        "colab": {
          "base_uri": "https://localhost:8080/"
        },
        "id": "X2BKGEU-7V__",
        "outputId": "08dbbd12-f494-4386-9cfb-7c250dfa5889"
      },
      "execution_count": null,
      "outputs": [
        {
          "output_type": "stream",
          "name": "stdout",
          "text": [
            "What is your name\n",
            "serhat\n",
            "serhat\n"
          ]
        }
      ]
    },
    {
      "cell_type": "code",
      "source": [
        "long_string = \"I'll catch you if you fall - The Floor\"\n",
        "\n",
        "print(long_string[0:4])\n",
        "\n",
        "print(long_string[-5:])\n",
        "\n",
        "print(long_string[:-5])\n",
        "\n",
        "print(long_string[:4] + \" be there\")\n",
        "\n"
      ],
      "metadata": {
        "colab": {
          "base_uri": "https://localhost:8080/"
        },
        "id": "ECxF7XG_7djP",
        "outputId": "4a46c628-f85b-4fd9-9f04-fd044cfe5c8b"
      },
      "execution_count": null,
      "outputs": [
        {
          "output_type": "stream",
          "name": "stdout",
          "text": [
            "I'll\n",
            "Floor\n",
            "I'll catch you if you fall - The \n",
            "I'll be there\n"
          ]
        }
      ]
    },
    {
      "cell_type": "code",
      "source": [
        "print(long_string.capitalize())\n",
        "print(long_string.find(\"Floor\"))"
      ],
      "metadata": {
        "colab": {
          "base_uri": "https://localhost:8080/"
        },
        "id": "aJVH5J9d7_GU",
        "outputId": "064f25ce-63ae-4a33-a7c3-301754438a01"
      },
      "execution_count": null,
      "outputs": [
        {
          "output_type": "stream",
          "name": "stdout",
          "text": [
            "I'll catch you if you fall - the floor\n",
            "I'll catch you if you fall - The Floor\n",
            "33\n"
          ]
        }
      ]
    },
    {
      "cell_type": "code",
      "source": [
        "test_file = open(\"test.txt\", \"wb\")\n",
        "\n",
        "print(test_file.mode)\n",
        "\n",
        "print(test_file.name)\n",
        "\n",
        "test_file.write(bytes(\"Write me to the file\\n\", \"UTF-8\"))\n",
        "\n",
        "# W -> 87 -> .... .... -> 0101 0111\n",
        "\n",
        "test_file.close()\n",
        "\n",
        "test_file = open(\"test.txt\")\n",
        "\n",
        "text_int_file = test_file.read()\n",
        "\n",
        "print(text_int_file)"
      ],
      "metadata": {
        "colab": {
          "base_uri": "https://localhost:8080/"
        },
        "id": "8nOJoERh8Dyz",
        "outputId": "056cfc9a-55c6-4f2f-889f-518a488cac54"
      },
      "execution_count": null,
      "outputs": [
        {
          "output_type": "stream",
          "name": "stdout",
          "text": [
            "wb\n",
            "test.txt\n",
            "Write me to the file\n",
            "\n"
          ]
        }
      ]
    },
    {
      "cell_type": "code",
      "source": [
        "class Animal:\n",
        "  __name = \"\"\n",
        "  __height = 0\n",
        "  __weight = 0\n",
        "  __sound = 0\n",
        "\n",
        "  def __init__(self, name, height, weight, sound):\n",
        "    self.__name = name\n",
        "    self.__height = height\n",
        "    self.__weight = weight\n",
        "    self.__sound = sound\n",
        "\n",
        "  def set_name(self, name: str) -> None:\n",
        "    self.__name = name\n",
        "\n",
        "  def get_name(self) -> str:\n",
        "    return self.__name\n",
        "\n",
        "  def set_height(self, height: str) -> None:\n",
        "    self.__height = height\n",
        "\n",
        "  def get_height(self) -> int:\n",
        "    return self.__height\n",
        "\n",
        "  def set_weight(self, weight: str) -> None:\n",
        "    self.__weight = weight\n",
        "\n",
        "  def get_weight(self) -> int:\n",
        "    return self.__weight\n",
        "\n",
        "  def set_sound(self, sound: str) -> None:\n",
        "    self.__sound = sound\n",
        "\n",
        "  def get_sound(self) -> str:\n",
        "    return self.__sound\n",
        "\n",
        "  def get_type(self) -> None:\n",
        "    print(\"Animal\")\n",
        "\n",
        "  def toString(self) -> str:\n",
        "    return \"{} is {} cm tall and {} kilograms and say {}\".format(self.__name,\n",
        "                                                                 self.__height,\n",
        "                                                                 self.__weight,\n",
        "                                                                 self.__sound)\n",
        "\n",
        "\n",
        "cat: Animal = Animal('Whiskers', 33, 10, 'Meow')"
      ],
      "metadata": {
        "id": "KyNfkJosDvXF"
      },
      "execution_count": null,
      "outputs": []
    },
    {
      "cell_type": "code",
      "source": [
        "class Dog(Animal):\n",
        "  __owner = \"\"\n",
        "\n",
        "  def __init__(self, name, height, weight, sound, owner):\n",
        "    self.__owner = owner\n",
        "    super(Dog, self).__init__(name, height, weight, sound)\n",
        "\n",
        "  def set_owner(self, owner: str) -> None:\n",
        "    self.__owner = owner\n",
        "\n",
        "  def get_owner(self) -> str:\n",
        "    return self.__owner\n",
        "\n",
        "  def get_type(self) -> None:\n",
        "    print(\"Dog\")\n",
        "\n",
        "  def toString(self) -> str:\n",
        "    return \"{} is {} cm tall and {} kilograms and say {} and is owned by {}\".format(self.get_name(),\n",
        "                                                                                    self.get_height(),\n",
        "                                                                                    self.get_weight(),\n",
        "                                                                                    self.get_sound(),\n",
        "                                                                                    self.get_owner())\n",
        "\n",
        "\n",
        "  def multiple_sounds(self, how_many: int = None) -> None:\n",
        "    if how_many is None:\n",
        "      print(self.get_sound())\n",
        "\n",
        "    else:\n",
        "      print(self.get_sound() * how_many)\n",
        "\n",
        "spot = Dog(\"Spot\", 53, 27, \"Ruff\", \"Derek\")\n",
        "\n",
        "print(spot.toString())"
      ],
      "metadata": {
        "colab": {
          "base_uri": "https://localhost:8080/"
        },
        "id": "Hy_fKhlpE_fE",
        "outputId": "3101922a-a4d5-485f-d017-2051617a98e3"
      },
      "execution_count": null,
      "outputs": [
        {
          "output_type": "stream",
          "name": "stdout",
          "text": [
            "Spot is 53 cm tall and 27 kilograms and say Ruff and is owned by Derek\n"
          ]
        }
      ]
    },
    {
      "cell_type": "code",
      "source": [
        "class AnimalTesting:\n",
        "  def get_type(self, animal):\n",
        "    animal.get_type()\n",
        "\n",
        "\n",
        "test_animals = AnimalTesting()\n",
        "test_animals.get_type(cat)\n",
        "test_animals.get_type(spot)\n",
        "\n",
        "spot.multiple_sounds(4)"
      ],
      "metadata": {
        "colab": {
          "base_uri": "https://localhost:8080/"
        },
        "id": "QZetk9KfH8l6",
        "outputId": "3a6ff30b-833f-4bac-e965-c691e12c136f"
      },
      "execution_count": null,
      "outputs": [
        {
          "output_type": "stream",
          "name": "stdout",
          "text": [
            "Animal\n",
            "Dog\n",
            "RuffRuffRuffRuff\n"
          ]
        }
      ]
    }
  ]
}