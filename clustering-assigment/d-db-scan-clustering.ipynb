{
  "cells": [
    {
      "cell_type": "markdown",
      "metadata": {},
      "source": [
        "# Clustering Tutorial (CLU101) - Level Beginner\n",
        "\n",
        "This notebook introduces clustering with PyCaret. It is designed for beginners looking to get started with PyCaret's `pycaret.clustering` module.\n",
        "\n",
        "## Objectives:\n",
        "1. Import data from the PyCaret repository.\n",
        "2. Set up the PyCaret environment for clustering.\n",
        "3. Build and analyze clustering models.\n",
        "4. Assign cluster labels to datasets.\n",
        "5. Save and load clustering models for reuse.\n",
        "\n",
        "Read Time: **Approx. 25 minutes**"
      ]
    },
    {
      "cell_type": "markdown",
      "metadata": {},
      "source": [
        "## 1.0 Installing PyCaret\n",
        "\n",
        "To get started, install PyCaret by running the following command:"
      ]
    },
    {
      "cell_type": "code",
      "execution_count": null,
      "metadata": {},
      "outputs": [],
      "source": [
        "!pip install pycaret"
      ]
    },
    {
      "cell_type": "markdown",
      "metadata": {},
      "source": [
        "### For Google Colab Users:\n",
        "Run the following code to enable interactive visuals in Colab."
      ]
    },
    {
      "cell_type": "code",
      "execution_count": null,
      "metadata": {},
      "outputs": [],
      "source": [
        "from pycaret.utils import enable_colab\n",
        "enable_colab()"
      ]
    },
    {
      "cell_type": "markdown",
      "metadata": {},
      "source": [
        "## 2.0 What is Clustering?\n",
        "Clustering is the task of grouping similar objects together based on certain features. Common applications include customer segmentation, document categorization, and outcome analysis in experiments."
      ]
    },
    {
      "cell_type": "markdown",
      "metadata": {},
      "source": [
        "## 3.0 Overview of PyCaret's Clustering Module\n",
        "PyCaret's `pycaret.clustering` module provides tools for unsupervised learning, including preprocessing, multiple clustering algorithms, and visualization capabilities."
      ]
    },
    {
      "cell_type": "markdown",
      "metadata": {},
      "source": [
        "## 4.0 Dataset for the Tutorial\n",
        "We will use the **Mice Protein Expression** dataset from UCI. This dataset consists of 1080 measurements across 77 features.\n",
        "\n",
        "To load the dataset directly from PyCaret:"
      ]
    },
    {
      "cell_type": "code",
      "execution_count": null,
      "metadata": {},
      "outputs": [],
      "source": [
        "from pycaret.datasets import get_data\n",
        "dataset = get_data('mice')\n",
        "\n",
        "# Check the dataset's shape\n",
        "print(dataset.shape)"
      ]
    },
    {
      "cell_type": "markdown",
      "metadata": {},
      "source": [
        "### Splitting Data for Modeling and Predictions\n",
        "We will hold back 5% of the data for predictions."
      ]
    },
    {
      "cell_type": "code",
      "execution_count": null,
      "metadata": {},
      "outputs": [],
      "source": [
        "data = dataset.sample(frac=0.95, random_state=786).reset_index(drop=True)\n",
        "data_unseen = dataset.drop(data.index).reset_index(drop=True)\n",
        "\n",
        "print('Data for Modeling:', data.shape)\n",
        "print('Unseen Data for Predictions:', data_unseen.shape)"
      ]
    },
    {
      "cell_type": "markdown",
      "metadata": {},
      "source": [
        "## 5.0 Setting Up the PyCaret Environment\n",
        "Initialize the PyCaret environment using the `setup()` function."
      ]
    },
    {
      "cell_type": "code",
      "execution_count": null,
      "metadata": {},
      "outputs": [],
      "source": [
        "from pycaret.clustering import *\n",
        "\n",
        "exp_clu101 = setup(\n",
        "    data, \n",
        "    normalize=True, \n",
        "    ignore_features=['MouseID'], \n",
        "    session_id=123\n",
        ")"
      ]
    },
    {
      "cell_type": "markdown",
      "metadata": {},
      "source": [
        "## 6.0 Creating and Assigning a Model\n",
        "We will create a K-Means model and assign cluster labels to the dataset."
      ]
    },
    {
      "cell_type": "code",
      "execution_count": null,
      "metadata": {},
      "outputs": [],
      "source": [
        "kmeans = create_model('kmeans')\n",
        "kmean_results = assign_model(kmeans)\n",
        "\n",
        "# Display the first few rows of the dataset with cluster labels\n",
        "kmean_results.head()"
      ]
    },
    {
      "cell_type": "markdown",
      "metadata": {},
      "source": [
        "## 7.0 Visualizing Clusters\n",
        "We can analyze the clustering results using various plots."
      ]
    },
    {
      "cell_type": "code",
      "execution_count": null,
      "metadata": {},
      "outputs": [],
      "source": [
        "# PCA Plot\n",
        "plot_model(kmeans, plot='pca')"
      ]
    },
    {
      "cell_type": "code",
      "execution_count": null,
      "metadata": {},
      "outputs": [],
      "source": [
        "# Elbow Plot\n",
        "plot_model(kmeans, plot='elbow')"
      ]
    },
    {
      "cell_type": "code",
      "execution_count": null,
      "metadata": {},
      "outputs": [],
      "source": [
        "# Silhouette Plot\n",
        "plot_model(kmeans, plot='silhouette')"
      ]
    },
    {
      "cell_type": "markdown",
      "metadata": {},
      "source": [
        "## 8.0 Predicting on Unseen Data\n",
        "We can use the trained model to predict cluster labels for new data."
      ]
    },
    {
      "cell_type": "code",
      "execution_count": null,
      "metadata": {},
      "outputs": [],
      "source": [
        "unseen_predictions = predict_model(kmeans, data=data_unseen)\n",
        "unseen_predictions.head()"
      ]
    },
    {
      "cell_type": "markdown",
      "metadata": {},
      "source": [
        "## 9.0 Saving and Loading the Model\n",
        "Save the trained model for future use and reload it when needed."
      ]
    },
    {
      "cell_type": "code",
      "execution_count": null,
      "metadata": {},
      "outputs": [],
      "source": [
        "# Save the model\n",
        "save_model(kmeans, 'Final Kmeans Model')\n",
        "\n",
        "# Load the model\n",
        "saved_kmeans = load_model('Final Kmeans Model')"
      ]
    },
    {
      "cell_type": "markdown",
      "metadata": {},
      "source": [
        "### Predict Using the Loaded Model"
      ]
    },
    {
      "cell_type": "code",
      "execution_count": null,
      "metadata": {},
      "outputs": [],
      "source": [
        "new_prediction = predict_model(saved_kmeans, data=data_unseen)\n",
        "new_prediction.head()"
      ]
    }
  ],
  "metadata": {
    "kernelspec": {
      "display_name": "Python 3",
      "language": "python",
      "name": "python3"
    },
    "language_info": {
      "codemirror_mode": {
        "name": "ipython",
        "version": 3
      },
      "file_extension": ".py",
      "mimetype": "text/x-python",
      "name": "python",
      "nbconvert_exporter": "python",
      "pygments_lexer": "ipython3",
      "version": "3.8.10"
    }
  },
  "nbformat": 4,
  "nbformat_minor": 4
}
