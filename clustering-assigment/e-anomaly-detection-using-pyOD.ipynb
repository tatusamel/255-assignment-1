{
 "cells": [
  {
   "cell_type": "markdown",
   "metadata": {},
   "source": [
    "# Time Series Anomaly Detection\n",
    "\n",
    "Time series data is common in various domains, such as user behavior, stock prices, and more. In this notebook, we will explore different types of anomalies, detection methods, and practical techniques for handling them."
   ]
  },
  {
   "cell_type": "markdown",
   "metadata": {},
   "source": [
    "## Objectives\n",
    "1. Understand different types of anomalies in time series data.\n",
    "2. Explore methods for detecting anomalies, including:\n",
    "    - STL Decomposition\n",
    "    - Isolation Forest\n",
    "    - Forecasting with Prophet\n",
    "    - Clustering-based methods\n",
    "    - Autoencoders\n",
    "3. Learn how to handle anomalies after detection."
   ]
  },
  {
   "cell_type": "markdown",
   "metadata": {},
   "source": [
    "## 1.0 Setup and Installation\n",
    "Ensure the necessary libraries are installed."
   ]
  },
  {
   "cell_type": "code",
   "execution_count": null,
   "metadata": {},
   "outputs": [],
   "source": [
    "!pip install numpy pandas matplotlib scikit-learn pyod statsmodels fbprophet"
   ]
  },
  {
   "cell_type": "markdown",
   "metadata": {},
   "source": [
    "## 2.0 Types of Anomalies in Time Series\n",
    "- **Point Outlier**: Unusual behavior at a specific time instance.\n",
    "- **Subsequence Outlier**: A sequence of points showing unusual behavior."
   ]
  },
  {
   "cell_type": "markdown",
   "metadata": {},
   "source": [
    "### Visualization Example\n",
    "We will use synthetic data for demonstration."
   ]
  },
  {
   "cell_type": "code",
   "execution_count": null,
   "metadata": {},
   "outputs": [],
   "source": [
    "import numpy as np\n",
    "import pandas as pd\n",
    "import matplotlib.pyplot as plt\n",
    "\n",
    "# Generating synthetic time series data\n",
    "np.random.seed(42)\n",
    "dates = pd.date_range(start='2023-01-01', periods=100)\n",
    "values = np.sin(np.linspace(0, 20, 100)) + np.random.normal(scale=0.2, size=100)\n",
    "values[20] = 3  # Point anomaly\n",
    "values[50:55] = values[50:55] + 2  # Subsequence anomaly\n",
    "\n",
    "time_series = pd.DataFrame({'Date': dates, 'Value': values})\n",
    "\n",
    "# Plot\n",
    "plt.figure(figsize=(10, 5))\n",
    "plt.plot(time_series['Date'], time_series['Value'], label='Time Series')\n",
    "plt.axvline(time_series['Date'][20], color='red', linestyle='--', label='Point Anomaly')\n",
    "plt.axvspan(time_series['Date'][50], time_series['Date'][54], color='yellow', alpha=0.3, label='Subsequence Anomaly')\n",
    "plt.legend()\n",
    "plt.show()"
   ]
  },
  {
   "cell_type": "markdown",
   "metadata": {},
   "source": [
    "## 3.0 STL Decomposition\n",
    "STL decomposition splits time series data into seasonal, trend, and residue components for anomaly detection."
   ]
  },
  {
   "cell_type": "code",
   "execution_count": null,
   "metadata": {},
   "outputs": [],
   "source": [
    "from statsmodels.tsa.seasonal import seasonal_decompose\n",
    "\n",
    "# STL decomposition\n",
    "result = seasonal_decompose(time_series['Value'], model='additive', period=10)\n",
    "fig = result.plot()\n",
    "plt.show()\n",
    "\n",
    "# Residue visualization\n",
    "residuals = result.resid\n",
    "plt.figure(figsize=(10, 5))\n",
    "plt.plot(time_series['Date'], residuals, label='Residuals')\n",
    "plt.axhline(0, color='black', linestyle='--')\n",
    "plt.legend()\n",
    "plt.show()"
   ]
  },
  {
   "cell_type": "markdown",
   "metadata": {},
   "source": [
    "## 4.0 Isolation Forest\n",
    "An unsupervised method to detect anomalies based on isolation techniques."
   ]
  },
  {
   "cell_type": "code",
   "execution_count": null,
   "metadata": {},
   "outputs": [],
   "source": [
    "from sklearn.ensemble import IsolationForest\n",
    "from sklearn.preprocessing import StandardScaler\n",
    "\n",
    "# Preparing data\n",
    "scaler = StandardScaler()\n",
    "values_scaled = scaler.fit_transform(time_series['Value'].values.reshape(-1, 1))\n",
    "\n",
    "# Isolation Forest\n",
    "model = IsolationForest(contamination=0.05, random_state=42)\n",
    "time_series['Anomaly'] = model.fit_predict(values_scaled)\n",
    "\n",
    "# Visualization\n",
    "anomalies = time_series[time_series['Anomaly'] == -1]\n",
    "plt.figure(figsize=(10, 5))\n",
    "plt.plot(time_series['Date'], time_series['Value'], label='Time Series')\n",
    "plt.scatter(anomalies['Date'], anomalies['Value'], color='red', label='Anomaly')\n",
    "plt.legend()\n",
    "plt.show()"
   ]
  },
  {
   "cell_type": "markdown",
   "metadata": {},
   "source": [
    "## 5.0 Forecasting with Prophet\n",
    "Using `fbprophet` for anomaly detection by leveraging forecasting capabilities."
   ]
  },
  {
   "cell_type": "code",
   "execution_count": null,
   "metadata": {},
   "outputs": [],
   "source": [
    "from fbprophet import Prophet\n",
    "\n",
    "# Prepare data for Prophet\n",
    "prophet_data = time_series.rename(columns={'Date': 'ds', 'Value': 'y'})\n",
    "\n",
    "# Fit Prophet model\n",
    "model = Prophet()\n",
    "model.fit(prophet_data)\n",
    "\n",
    "# Forecast\n",
    "future = model.make_future_dataframe(periods=0)\n",
    "forecast = model.predict(future)\n",
    "\n",
    "# Anomaly Detection\n",
    "prophet_data['yhat'] = forecast['yhat']\n",
    "prophet_data['lower'] = forecast['yhat_lower']\n",
    "prophet_data['upper'] = forecast['yhat_upper']\n",
    "prophet_data['Anomaly'] = 0\n",
    "prophet_data.loc[prophet_data['y'] > prophet_data['upper'], 'Anomaly'] = 1\n",
    "prophet_data.loc[prophet_data['y'] < prophet_data['lower'], 'Anomaly'] = -1\n",
    "\n",
    "# Visualization\n",
    "anomalies = prophet_data[prophet_data['Anomaly'] != 0]\n",
    "plt.figure(figsize=(10, 5))\n",
    "plt.plot(prophet_data['ds'], prophet_data['y'], label='Time Series')\n",
    "plt.fill_between(prophet_data['ds'], prophet_data['lower'], prophet_data['upper'], color='gray', alpha=0.2, label='Confidence Interval')\n",
    "plt.scatter(anomalies['ds'], anomalies['y'], color='red', label='Anomaly')\n",
    "plt.legend()\n",
    "plt.show()"
   ]
  },
  {
   "cell_type": "markdown",
   "metadata": {},
   "source": [
    "## 6.0 Clustering-Based Anomaly Detection\n",
    "Using K-Means clustering to identify anomalies."
   ]
  },
  {
   "cell_type": "markdown",
   "metadata": {},
   "source": [
    "## 7.0 Autoencoders\n",
    "Deep learning-based anomaly detection for high-dimensional datasets."
   ]
  },
  {
   "cell_type": "markdown",
   "metadata": {},
   "source": [
    "## 8.0 Handling Anomalies\n",
    "- **Understanding the business case**: Analyze the root cause.\n",
    "- **Adjusting with statistical methods**: Use means or interpolations.\n",
    "- **Removing anomalies**: Drop outliers if they are irrelevant."
   ]
  }
 ],
 "metadata": {
  "kernelspec": {
   "display_name": "Python 3",
   "language": "python",
   "name": "python3"
  },
  "language_info": {
   "codemirror_mode": {
    "name": "ipython",
    "version": 3
   },
   "file_extension": ".py",
   "mimetype": "text/x-python",
   "name": "python",
   "nbconvert_exporter": "python",
   "pygments_lexer": "ipython3",
   "version": "3.8.10"
  }
 },
 "nbformat": 4,
 "nbformat_minor": 4
}
