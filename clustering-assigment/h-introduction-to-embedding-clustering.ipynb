{
 "cells": [
  {
   "cell_type": "markdown",
   "metadata": {},
   "source": [
    "# Embedding, Similarity, and Clustering\n",
    "\n",
    "This notebook provides a practical introduction to embedding, similarity, and clustering—concepts that are foundational to many machine learning applications.\n",
    "\n",
    "## Objectives:\n",
    "1. Understand and implement **embedding** to represent real-world data in numerical formats.\n",
    "2. Learn and calculate **similarity** between embeddings using metrics like Euclidean and Cosine Similarity.\n",
    "3. Perform **clustering** using the K-means algorithm to group similar data points."
   ]
  },
  {
   "cell_type": "markdown",
   "metadata": {},
   "source": [
    "## Table of Contents:\n",
    "1. Embedding\n",
    "2. Similarity\n",
    "3. Clustering\n",
    "4. K-means Clustering Implementation\n",
    "5. Conclusion"
   ]
  },
  {
   "cell_type": "markdown",
   "metadata": {},
   "source": [
    "## 1.0 Embedding\n",
    "Embedding is the process of representing real-world objects as numerical data to make them analyzable in machine learning applications. Different applications require different embedding methods. For example, text can be embedded using ASCII values, or images can be embedded as pixel intensities."
   ]
  },
  {
   "cell_type": "code",
   "execution_count": null,
   "metadata": {},
   "outputs": [],
   "source": [
    "# Example: Embedding a sentence using ASCII values\n",
    "sentence = \"Hello, ML!\"\n",
    "ascii_embedding = [ord(char) for char in sentence]\n",
    "print(f\"Original Sentence: {sentence}\")\n",
    "print(f\"ASCII Embedding: {ascii_embedding}\")"
   ]
  },
  {
   "cell_type": "markdown",
   "metadata": {},
   "source": [
    "## 2.0 Similarity\n",
    "Similarity measures how close two embeddings are. Common metrics include:\n",
    "- **Euclidean Similarity**: Measures the straight-line distance between two points in space.\n",
    "- **Cosine Similarity**: Measures the angle between two vectors, focusing on their orientation rather than magnitude."
   ]
  },
  {
   "cell_type": "code",
   "execution_count": null,
   "metadata": {},
   "outputs": [],
   "source": [
    "import numpy as np\n",
    "\n",
    "# Define two example vectors\n",
    "vector_a = np.array([1, 2])\n",
    "vector_b = np.array([2, 3])\n",
    "\n",
    "# Euclidean Similarity\n",
    "euclidean_similarity = np.linalg.norm(vector_a - vector_b)\n",
    "print(f\"Euclidean Similarity: {euclidean_similarity}\")\n",
    "\n",
    "# Cosine Similarity\n",
    "cosine_similarity = np.dot(vector_a, vector_b) / (np.linalg.norm(vector_a) * np.linalg.norm(vector_b))\n",
    "print(f\"Cosine Similarity: {cosine_similarity}\")"
   ]
  },
  {
   "cell_type": "markdown",
   "metadata": {},
   "source": [
    "## 3.0 Clustering\n",
    "Clustering groups similar data points together. It helps uncover hidden structures in data, such as identifying genres of books based on features like theme and writing style."
   ]
  },
  {
   "cell_type": "code",
   "execution_count": null,
   "metadata": {},
   "outputs": [],
   "source": [
    "# Example Data: Book themes represented as points in a 2D space\n",
    "import matplotlib.pyplot as plt\n",
    "\n",
    "data = np.array([\n",
    "    [1, 2],  # Book A\n",
    "    [1, 3],  # Book B\n",
    "    [6, 7],  # Book C\n",
    "    [7, 6]   # Book D\n",
    "])\n",
    "\n",
    "# Plot data points\n",
    "plt.scatter(data[:, 0], data[:, 1], c=\"blue\", label=\"Books\")\n",
    "plt.title(\"Books in 2D Feature Space\")\n",
    "plt.xlabel(\"Feature 1\")\n",
    "plt.ylabel(\"Feature 2\")\n",
    "plt.legend()\n",
    "plt.show()"
   ]
  },
  {
   "cell_type": "markdown",
   "metadata": {},
   "source": [
    "## 4.0 K-means Clustering Implementation\n",
    "K-means clustering assigns data points to a predefined number of clusters by minimizing intra-cluster distances."
   ]
  },
  {
   "cell_type": "code",
   "execution_count": null,
   "metadata": {},
   "outputs": [],
   "source": [
    "from sklearn.cluster import KMeans\n",
    "\n",
    "# Apply K-means clustering\n",
    "kmeans = KMeans(n_clusters=2, random_state=42).fit(data)\n",
    "labels = kmeans.labels_\n",
    "centroids = kmeans.cluster_centers_\n",
    "\n",
    "# Visualize clusters\n",
    "plt.scatter(data[:, 0], data[:, 1], c=labels, cmap=\"viridis\", label=\"Books\")\n",
    "plt.scatter(centroids[:, 0], centroids[:, 1], c=\"red\", marker=\"x\", label=\"Centroids\")\n",
    "plt.title(\"K-means Clustering\")\n",
    "plt.xlabel(\"Feature 1\")\n",
    "plt.ylabel(\"Feature 2\")\n",
    "plt.legend()\n",
    "plt.show()"
   ]
  },
  {
   "cell_type": "markdown",
   "metadata": {},
   "source": [
    "### 4.1 Elbow Method to Find Optimal Clusters\n",
    "The Elbow Method helps identify the optimal number of clusters by finding the point where adding more clusters doesn’t significantly improve the model."
   ]
  },
  {
   "cell_type": "code",
   "execution_count": null,
   "metadata": {},
   "outputs": [],
   "source": [
    "# Calculate inertia for different numbers of clusters\n",
    "inertia = []\n",
    "for k in range(1, 10):\n",
    "    km = KMeans(n_clusters=k, random_state=42).fit(data)\n",
    "    inertia.append(km.inertia_)\n",
    "\n",
    "# Plot Elbow Curve\n",
    "plt.plot(range(1, 10), inertia, marker=\"o\")\n",
    "plt.title(\"Elbow Method\")\n",
    "plt.xlabel(\"Number of Clusters\")\n",
    "plt.ylabel(\"Inertia\")\n",
    "plt.show()"
   ]
  },
  {
   "cell_type": "markdown",
   "metadata": {},
   "source": [
    "## 5.0 Conclusion\n",
    "This notebook demonstrated:\n",
    "- The importance of embeddings in representing real-world data.\n",
    "- How similarity measures like Euclidean and Cosine help analyze relationships between data points.\n",
    "- How clustering methods like K-means reveal structures in data.\n",
    "\n",
    "You can now explore more advanced clustering techniques or apply these methods to real-world datasets!"
   ]
  }
 ],
 "metadata": {
  "kernelspec": {
   "display_name": "Python 3",
   "language": "python",
   "name": "python3"
  },
  "language_info": {
   "codemirror_mode": {
    "name": "ipython",
    "version": 3
   },
   "file_extension": ".py",
   "mimetype": "text/x-python",
   "name": "python",
   "nbconvert_exporter": "python",
   "pygments_lexer": "ipython3",
   "version": "3.8.10"
  }
 },
 "nbformat": 4,
 "nbformat_minor": 4
}
